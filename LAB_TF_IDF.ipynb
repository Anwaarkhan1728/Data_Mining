{
 "cells": [
  {
   "cell_type": "markdown",
   "id": "7311c6fa-319b-4879-98a4-b5d007008ff0",
   "metadata": {},
   "source": [
    "# **M Anwaar Ur Rehman**\n",
    "# **Roll No: 28**\n",
    "# **Bs: Data Science**"
   ]
  },
  {
   "cell_type": "markdown",
   "id": "329f2b28-ae2c-4ddc-8ba9-22bd5135aaa4",
   "metadata": {},
   "source": [
    "---\n",
    "---\n",
    "# **TF-IDF Feature Names & Matrix**"
   ]
  },
  {
   "cell_type": "code",
   "execution_count": 1,
   "id": "151bb3d8-a670-4227-845b-d39468cc4922",
   "metadata": {},
   "outputs": [
    {
     "name": "stdout",
     "output_type": "stream",
     "text": [
      "TF-IDF Feature Names: ['analytics' 'and' 'are' 'data' 'extract' 'fun' 'helps' 'insights' 'is'\n",
      " 'mining' 'text' 'valuable']\n",
      "::::::::::::::::::::::::::::::::::::::::::::::::::::::::::::::::::::\n",
      "::::::::::::::::::::::::::::::::::::::::::::::::::::::::::::::::::::\n",
      "::::::::::::::::::::::::::::::::::::::::::::::::::::::::::::::::::::\n",
      "::::::::::::::::::::::::::::::::::::::::::::::::::::::::::::::::::::\n",
      "TF-IDF Matrix:\n",
      " [[0.         0.         0.         0.         0.         0.5844829\n",
      "  0.         0.         0.5844829  0.34520502 0.44451431 0.        ]\n",
      " [0.         0.         0.         0.38376993 0.50461134 0.\n",
      "  0.50461134 0.50461134 0.         0.29803159 0.         0.        ]\n",
      " [0.4261835  0.4261835  0.4261835  0.32412354 0.         0.\n",
      "  0.         0.         0.         0.25171084 0.32412354 0.4261835 ]]\n"
     ]
    }
   ],
   "source": [
    "from sklearn.feature_extraction.text import TfidfVectorizer\n",
    "\n",
    "# Define the corpus\n",
    "corpus = [\n",
    "    \"Text mining is fun\",\n",
    "    \"Mining data helps extract insights\",\n",
    "    \"Data mining and text analytics are valuable\"\n",
    "]\n",
    "\n",
    "# Initialize TF-IDF Vectorizer\n",
    "vectorizer = TfidfVectorizer()\n",
    "tfidf_matrix = vectorizer.fit_transform(corpus)\n",
    "\n",
    "\n",
    "\n",
    "# Display results\n",
    "print(\"TF-IDF Feature Names:\", vectorizer.get_feature_names_out())\n",
    "\n",
    "print(\"::::::::::::::::::::::::::::::::::::::::::::::::::::::::::::::::::::\")\n",
    "print(\"::::::::::::::::::::::::::::::::::::::::::::::::::::::::::::::::::::\")\n",
    "print(\"::::::::::::::::::::::::::::::::::::::::::::::::::::::::::::::::::::\")\n",
    "print(\"::::::::::::::::::::::::::::::::::::::::::::::::::::::::::::::::::::\")\n",
    "\n",
    "print(\"TF-IDF Matrix:\\n\", tfidf_matrix.toarray())\n"
   ]
  },
  {
   "cell_type": "code",
   "execution_count": null,
   "id": "2553e06c-ed0d-41e8-9aad-7fc9d6e77ef2",
   "metadata": {},
   "outputs": [],
   "source": []
  },
  {
   "cell_type": "markdown",
   "id": "ca063a5a-d925-405d-b5ab-368832877c39",
   "metadata": {},
   "source": [
    "# **Cosine Similarity**"
   ]
  },
  {
   "cell_type": "code",
   "execution_count": 2,
   "id": "1bb82ff5-da26-49b2-821f-6a5b0d79a8d4",
   "metadata": {},
   "outputs": [
    {
     "name": "stdout",
     "output_type": "stream",
     "text": [
      "Cosine Similarity Matrix:\n",
      " [[1.         0.4472136  0.37796447]\n",
      " [0.4472136  1.         0.3380617 ]\n",
      " [0.37796447 0.3380617  1.        ]]\n"
     ]
    }
   ],
   "source": [
    "# Cosine Similarity Example\n",
    "\n",
    "from sklearn.feature_extraction.text import CountVectorizer\n",
    "from sklearn.metrics.pairwise import cosine_similarity\n",
    "\n",
    "# Sample documents\n",
    "docs = [\"Text mining is fun\",\n",
    "        \"Text mining helps extract insights\",\n",
    "        \"Data mining and text analytics are valuable\"]\n",
    "\n",
    "# Convert to term frequency matrix\n",
    "vectorizer = CountVectorizer()\n",
    "tf_matrix = vectorizer.fit_transform(docs)\n",
    "\n",
    "# Compute cosine similarity\n",
    "cos_sim = cosine_similarity(tf_matrix, tf_matrix)\n",
    "print(\"Cosine Similarity Matrix:\\n\", cos_sim)\n"
   ]
  },
  {
   "cell_type": "markdown",
   "id": "375a89d2-890c-4c8f-a549-a0e8b43c4313",
   "metadata": {},
   "source": [
    "# **Jaccard Similarity**"
   ]
  },
  {
   "cell_type": "code",
   "execution_count": 3,
   "id": "d2b9ceb5-dfc1-425e-872e-679d5a7ee215",
   "metadata": {},
   "outputs": [
    {
     "name": "stdout",
     "output_type": "stream",
     "text": [
      "Jaccard Similarity: 0.2857142857142857\n"
     ]
    }
   ],
   "source": [
    "def jaccard_similarity(doc1, doc2):\n",
    "    # Tokenize documents into sets\n",
    "    set1, set2 = set(doc1.split()), set(doc2.split())\n",
    "    # Compute Jaccard Similarity\n",
    "    intersection = len(set1 & set2)\n",
    "    union = len(set1 | set2)\n",
    "    return intersection / union\n",
    "\n",
    "# Sample documents\n",
    "doc_a = \"Text mining is fun\"\n",
    "doc_b = \"Text mining helps extract insights\"\n",
    "\n",
    "print(\"Jaccard Similarity:\", jaccard_similarity(doc_a, doc_b))"
   ]
  },
  {
   "cell_type": "markdown",
   "id": "d221383b-26a2-489e-99db-0f2948606fbb",
   "metadata": {},
   "source": [
    "# **Euclidean Distance**"
   ]
  },
  {
   "cell_type": "code",
   "execution_count": 4,
   "id": "0817d7bc-7497-4ef8-b954-cc5bed9446cd",
   "metadata": {},
   "outputs": [
    {
     "name": "stdout",
     "output_type": "stream",
     "text": [
      "Euclidean Distance: 2.23606797749979\n"
     ]
    }
   ],
   "source": [
    "from sklearn.feature_extraction.text import CountVectorizer\n",
    "from scipy.spatial.distance import euclidean\n",
    "\n",
    "# Convert documents into term frequency vectors\n",
    "tf_matrix = vectorizer.fit_transform(docs).toarray()\n",
    "\n",
    "# Compute Euclidean distance\n",
    "euclidean_dist = euclidean(tf_matrix[0], tf_matrix[1])\n",
    "print(\"Euclidean Distance:\", euclidean_dist)"
   ]
  },
  {
   "cell_type": "markdown",
   "id": "ca56a520-3de9-4a0f-90d2-ff8372400556",
   "metadata": {},
   "source": [
    "# **Semantic Similarity Using Word Embeddings**"
   ]
  },
  {
   "cell_type": "code",
   "execution_count": 7,
   "id": "cd236d55-154d-4d1b-8395-34d6b7ae2f0e",
   "metadata": {},
   "outputs": [
    {
     "name": "stdout",
     "output_type": "stream",
     "text": [
      "\u001b[38;5;2m✔ Download and installation successful\u001b[0m\n",
      "You can now load the package via spacy.load('en_core_web_md')\n",
      "\u001b[38;5;3m⚠ Restart to reload dependencies\u001b[0m\n",
      "If you are in a Jupyter or Colab notebook, you may need to restart Python in\n",
      "order to load all the package's dependencies. You can do this by selecting the\n",
      "'Restart kernel' or 'Restart runtime' option.\n",
      "Model 'en_core_web_md' downloaded successfully!\n",
      "Model 'en_core_web_md' loaded successfully!\n"
     ]
    }
   ],
   "source": [
    "import spacy\n",
    "\n",
    "# Download the en_core_web_md model\n",
    "try:\n",
    "    spacy.cli.download(\"en_core_web_md\")\n",
    "    print(\"Model 'en_core_web_md' downloaded successfully!\")\n",
    "except Exception as e:\n",
    "    print(f\"An error occurred: {e}\")\n",
    "\n",
    "# Load the model after installation\n",
    "nlp = spacy.load(\"en_core_web_md\")\n",
    "print(\"Model 'en_core_web_md' loaded successfully!\")\n"
   ]
  },
  {
   "cell_type": "code",
   "execution_count": null,
   "id": "6909c2b2-48f9-4a94-9488-84fbbdb2d447",
   "metadata": {},
   "outputs": [],
   "source": []
  },
  {
   "cell_type": "code",
   "execution_count": 8,
   "id": "9835cd33-bb05-424f-ab0a-bb4a7b1754e5",
   "metadata": {},
   "outputs": [
    {
     "name": "stdout",
     "output_type": "stream",
     "text": [
      "Semantic Similarity: 0.6180577720672877\n"
     ]
    }
   ],
   "source": [
    "import spacy\n",
    "\n",
    "# Load pre-trained word embeddings model\n",
    "nlp = spacy.load(\"en_core_web_md\")\n",
    "\n",
    "# Sample documents\n",
    "doc1 = nlp(\"Text mining is fun\")\n",
    "doc2 = nlp(\"Text mining helps extract insights\")\n",
    "\n",
    "# Compute semantic similarity\n",
    "semantic_similarity = doc1.similarity(doc2)\n",
    "print(\"Semantic Similarity:\", semantic_similarity)"
   ]
  },
  {
   "cell_type": "code",
   "execution_count": null,
   "id": "40c6321d-5439-4796-94dc-8cec2eb36446",
   "metadata": {},
   "outputs": [],
   "source": []
  }
 ],
 "metadata": {
  "kernelspec": {
   "display_name": "Python 3 (ipykernel)",
   "language": "python",
   "name": "python3"
  },
  "language_info": {
   "codemirror_mode": {
    "name": "ipython",
    "version": 3
   },
   "file_extension": ".py",
   "mimetype": "text/x-python",
   "name": "python",
   "nbconvert_exporter": "python",
   "pygments_lexer": "ipython3",
   "version": "3.11.7"
  }
 },
 "nbformat": 4,
 "nbformat_minor": 5
}
